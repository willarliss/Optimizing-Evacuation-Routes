{
 "cells": [
  {
   "cell_type": "code",
   "execution_count": 2,
   "metadata": {},
   "outputs": [],
   "source": [
    "import pandas as pd\n",
    "import numpy as np\n",
    "import matplotlib.pyplot as plt\n",
    "import seaborn as sns\n",
    "from datetime import datetime"
   ]
  },
  {
   "cell_type": "markdown",
   "metadata": {},
   "source": [
    "# Clean Our Data Sources To Only Include Road Closures"
   ]
  },
  {
   "cell_type": "markdown",
   "metadata": {},
   "source": [
    "## Twitter Data"
   ]
  },
  {
   "cell_type": "code",
   "execution_count": 3,
   "metadata": {},
   "outputs": [
    {
     "data": {
      "text/html": [
       "<div>\n",
       "<style scoped>\n",
       "    .dataframe tbody tr th:only-of-type {\n",
       "        vertical-align: middle;\n",
       "    }\n",
       "\n",
       "    .dataframe tbody tr th {\n",
       "        vertical-align: top;\n",
       "    }\n",
       "\n",
       "    .dataframe thead th {\n",
       "        text-align: right;\n",
       "    }\n",
       "</style>\n",
       "<table border=\"1\" class=\"dataframe\">\n",
       "  <thead>\n",
       "    <tr style=\"text-align: right;\">\n",
       "      <th></th>\n",
       "      <th>Index</th>\n",
       "      <th>User</th>\n",
       "      <th>Text</th>\n",
       "      <th>Date</th>\n",
       "      <th>Favorites</th>\n",
       "      <th>Retweets</th>\n",
       "      <th>Mentions</th>\n",
       "      <th>HashTags</th>\n",
       "      <th>streets</th>\n",
       "      <th>highways</th>\n",
       "      <th>exits</th>\n",
       "      <th>markers</th>\n",
       "      <th>road_closed</th>\n",
       "      <th>predictions</th>\n",
       "      <th>query</th>\n",
       "      <th>query_string</th>\n",
       "      <th>lat</th>\n",
       "      <th>lng</th>\n",
       "      <th>query_score</th>\n",
       "      <th>field_score</th>\n",
       "    </tr>\n",
       "  </thead>\n",
       "  <tbody>\n",
       "    <tr>\n",
       "      <th>0</th>\n",
       "      <td>591</td>\n",
       "      <td>iembot_lch</td>\n",
       "      <td>At 4:45 PM CDT, Burns Point [St. Mary Co, LA] ...</td>\n",
       "      <td>2020-08-27 21:47:48+00:00</td>\n",
       "      <td>0</td>\n",
       "      <td>0</td>\n",
       "      <td>NaN</td>\n",
       "      <td>NaN</td>\n",
       "      <td>[]</td>\n",
       "      <td>['highway 317']</td>\n",
       "      <td>[]</td>\n",
       "      <td>[]</td>\n",
       "      <td>0.0</td>\n",
       "      <td>0.0</td>\n",
       "      <td>'highway 317'</td>\n",
       "      <td>highway+317</td>\n",
       "      <td>29.66254</td>\n",
       "      <td>-91.48872</td>\n",
       "      <td>0.99</td>\n",
       "      <td>{'state': 0.89, 'streets': [1.0]}</td>\n",
       "    </tr>\n",
       "    <tr>\n",
       "      <th>1</th>\n",
       "      <td>646</td>\n",
       "      <td>TotalTrafficBTR</td>\n",
       "      <td>Downed tree cleared in #WestBatonRouge on I 10...</td>\n",
       "      <td>2020-08-27 11:50:43+00:00</td>\n",
       "      <td>0</td>\n",
       "      <td>0</td>\n",
       "      <td>NaN</td>\n",
       "      <td>#WestBatonRouge #traffic</td>\n",
       "      <td>[]</td>\n",
       "      <td>[]</td>\n",
       "      <td>['exit 151', 'exit 139']</td>\n",
       "      <td>[]</td>\n",
       "      <td>NaN</td>\n",
       "      <td>0.0</td>\n",
       "      <td>'exit 151', 'exit 139'</td>\n",
       "      <td>exit+151%2C++exit+139</td>\n",
       "      <td>30.57016</td>\n",
       "      <td>-92.07275</td>\n",
       "      <td>0.68</td>\n",
       "      <td>{'state': 0.89, 'streets': [0.3], 'houseNumber...</td>\n",
       "    </tr>\n",
       "    <tr>\n",
       "      <th>2</th>\n",
       "      <td>402</td>\n",
       "      <td>TotalTrafficHOU</td>\n",
       "      <td>Accident. two left lanes blocked in #Spring on...</td>\n",
       "      <td>2020-08-30 16:00:43+00:00</td>\n",
       "      <td>0</td>\n",
       "      <td>0</td>\n",
       "      <td>NaN</td>\n",
       "      <td>#Spring #traffic</td>\n",
       "      <td>[]</td>\n",
       "      <td>['i-45']</td>\n",
       "      <td>[]</td>\n",
       "      <td>[]</td>\n",
       "      <td>1.0</td>\n",
       "      <td>1.0</td>\n",
       "      <td>'i-45'</td>\n",
       "      <td>i-45</td>\n",
       "      <td>30.44335</td>\n",
       "      <td>-91.18664</td>\n",
       "      <td>0.73</td>\n",
       "      <td>{'state': 0.89}</td>\n",
       "    </tr>\n",
       "  </tbody>\n",
       "</table>\n",
       "</div>"
      ],
      "text/plain": [
       "   Index             User                                               Text  \\\n",
       "0    591       iembot_lch  At 4:45 PM CDT, Burns Point [St. Mary Co, LA] ...   \n",
       "1    646  TotalTrafficBTR  Downed tree cleared in #WestBatonRouge on I 10...   \n",
       "2    402  TotalTrafficHOU  Accident. two left lanes blocked in #Spring on...   \n",
       "\n",
       "                        Date  Favorites  Retweets Mentions  \\\n",
       "0  2020-08-27 21:47:48+00:00          0         0      NaN   \n",
       "1  2020-08-27 11:50:43+00:00          0         0      NaN   \n",
       "2  2020-08-30 16:00:43+00:00          0         0      NaN   \n",
       "\n",
       "                   HashTags streets         highways  \\\n",
       "0                       NaN      []  ['highway 317']   \n",
       "1  #WestBatonRouge #traffic      []               []   \n",
       "2          #Spring #traffic      []         ['i-45']   \n",
       "\n",
       "                      exits markers  road_closed  predictions  \\\n",
       "0                        []      []          0.0          0.0   \n",
       "1  ['exit 151', 'exit 139']      []          NaN          0.0   \n",
       "2                        []      []          1.0          1.0   \n",
       "\n",
       "                    query           query_string       lat       lng  \\\n",
       "0           'highway 317'            highway+317  29.66254 -91.48872   \n",
       "1  'exit 151', 'exit 139'  exit+151%2C++exit+139  30.57016 -92.07275   \n",
       "2                  'i-45'                   i-45  30.44335 -91.18664   \n",
       "\n",
       "   query_score                                        field_score  \n",
       "0         0.99                  {'state': 0.89, 'streets': [1.0]}  \n",
       "1         0.68  {'state': 0.89, 'streets': [0.3], 'houseNumber...  \n",
       "2         0.73                                    {'state': 0.89}  "
      ]
     },
     "execution_count": 3,
     "metadata": {},
     "output_type": "execute_result"
    }
   ],
   "source": [
    "twitter = pd.read_csv('./GeoCoding Data/tweets_with_geo.csv')\n",
    "twitter.head(3)"
   ]
  },
  {
   "cell_type": "markdown",
   "metadata": {},
   "source": [
    "#### Convert Date to Datetime"
   ]
  },
  {
   "cell_type": "code",
   "execution_count": 24,
   "metadata": {},
   "outputs": [],
   "source": [
    "twitter['Date'] = pd.to_datetime(twitter['Date'])"
   ]
  },
  {
   "cell_type": "markdown",
   "metadata": {},
   "source": [
    "#### Filter by Days of Hurricane Laura & Road Closures"
   ]
  },
  {
   "cell_type": "code",
   "execution_count": 32,
   "metadata": {},
   "outputs": [],
   "source": [
    "#save as a new dataframe\n",
    "twitter_closures = twitter[(twitter['Date'] >= '2020-08-27') & (twitter['Date'] <= '2020-08-29') & (twitter['predictions'] == 1.0)]"
   ]
  },
  {
   "cell_type": "markdown",
   "metadata": {},
   "source": [
    "#### Check the Quality of the Query Score"
   ]
  },
  {
   "cell_type": "code",
   "execution_count": 37,
   "metadata": {},
   "outputs": [
    {
     "data": {
      "image/png": "[encoded data removed]",
      "text/plain": [
       "<Figure size 432x288 with 1 Axes>"
      ]
     },
     "metadata": {
      "needs_background": "light"
     },
     "output_type": "display_data"
    }
   ],
   "source": [
    "sns.distplot(twitter_closures['query_score'], kde=False);"
   ]
  },
  {
   "cell_type": "code",
   "execution_count": 41,
   "metadata": {},
   "outputs": [],
   "source": [
    "#Let's use a query_score of 0.6 and above to plot on the map\n",
    "twitter_closures = twitter_closures[twitter_closures['query_score'] >= 0.6]"
   ]
  },
  {
   "cell_type": "code",
   "execution_count": 43,
   "metadata": {},
   "outputs": [],
   "source": [
    "# save as a csv \n",
    "twitter_closures.to_csv('./Mapping_The_Data/twitter_mapping_data.csv', index=False)"
   ]
  },
  {
   "cell_type": "markdown",
   "metadata": {},
   "source": [
    "## HERE API Data"
   ]
  },
  {
   "cell_type": "code",
   "execution_count": 4,
   "metadata": {},
   "outputs": [
    {
     "data": {
      "text/html": [
       "<div>\n",
       "<style scoped>\n",
       "    .dataframe tbody tr th:only-of-type {\n",
       "        vertical-align: middle;\n",
       "    }\n",
       "\n",
       "    .dataframe tbody tr th {\n",
       "        vertical-align: top;\n",
       "    }\n",
       "\n",
       "    .dataframe thead th {\n",
       "        text-align: right;\n",
       "    }\n",
       "</style>\n",
       "<table border=\"1\" class=\"dataframe\">\n",
       "  <thead>\n",
       "    <tr style=\"text-align: right;\">\n",
       "      <th></th>\n",
       "      <th>TRAFFIC_ITEM_ID</th>\n",
       "      <th>ORIGINAL_TRAFFIC_ITEM_ID</th>\n",
       "      <th>TRAFFIC_ITEM_STATUS_SHORT_DESC</th>\n",
       "      <th>TRAFFIC_ITEM_TYPE_DESC</th>\n",
       "      <th>START_TIME</th>\n",
       "      <th>END_TIME</th>\n",
       "      <th>ENTRY_TIME</th>\n",
       "      <th>VERIFIED</th>\n",
       "      <th>CRITICAL_VALS</th>\n",
       "      <th>INCIDENT_TYPE</th>\n",
       "      <th>LATITUDE_START</th>\n",
       "      <th>LONGITUDE_START</th>\n",
       "      <th>LATITUDE_END</th>\n",
       "      <th>LONGITUDE_END</th>\n",
       "      <th>ROAD_CLOSED</th>\n",
       "      <th>TRAFFIC_DESC</th>\n",
       "    </tr>\n",
       "  </thead>\n",
       "  <tbody>\n",
       "    <tr>\n",
       "      <th>0</th>\n",
       "      <td>3798248000588304094</td>\n",
       "      <td>3124104410382626491</td>\n",
       "      <td>ACTIVE</td>\n",
       "      <td>MISCELLANEOUS</td>\n",
       "      <td>August 29, 2020 8:37:43 AM CDT</td>\n",
       "      <td>September 16, 2020 1:29:30 AM CDT</td>\n",
       "      <td>September 15, 2020 11:29:46 PM CDT</td>\n",
       "      <td>True</td>\n",
       "      <td>minor</td>\n",
       "      <td>NaN</td>\n",
       "      <td>30.21861</td>\n",
       "      <td>-93.32553</td>\n",
       "      <td>30.18356</td>\n",
       "      <td>-93.37612</td>\n",
       "      <td>False</td>\n",
       "      <td>Lane blocked</td>\n",
       "    </tr>\n",
       "    <tr>\n",
       "      <th>1</th>\n",
       "      <td>3315771682021071064</td>\n",
       "      <td>3331121809586964207</td>\n",
       "      <td>ACTIVE</td>\n",
       "      <td>CONSTRUCTION</td>\n",
       "      <td>September 15, 2020 11:32:46 PM CDT</td>\n",
       "      <td>September 16, 2020 4:30:18 AM CDT</td>\n",
       "      <td>September 15, 2020 11:32:46 PM CDT</td>\n",
       "      <td>True</td>\n",
       "      <td>critical</td>\n",
       "      <td>construction</td>\n",
       "      <td>29.71297</td>\n",
       "      <td>-94.98707</td>\n",
       "      <td>29.70945</td>\n",
       "      <td>-94.98721</td>\n",
       "      <td>True</td>\n",
       "      <td>Closed due to road construction</td>\n",
       "    </tr>\n",
       "    <tr>\n",
       "      <th>2</th>\n",
       "      <td>190895852957661665</td>\n",
       "      <td>3524764879614559312</td>\n",
       "      <td>ACTIVE</td>\n",
       "      <td>ROAD_CLOSURE</td>\n",
       "      <td>August 28, 2020 3:47:21 PM CDT</td>\n",
       "      <td>September 16, 2020 4:29:30 AM CDT</td>\n",
       "      <td>September 15, 2020 11:29:46 PM CDT</td>\n",
       "      <td>True</td>\n",
       "      <td>critical</td>\n",
       "      <td>NaN</td>\n",
       "      <td>30.65546</td>\n",
       "      <td>-93.41246</td>\n",
       "      <td>30.76707</td>\n",
       "      <td>-93.53879</td>\n",
       "      <td>True</td>\n",
       "      <td>Closed</td>\n",
       "    </tr>\n",
       "  </tbody>\n",
       "</table>\n",
       "</div>"
      ],
      "text/plain": [
       "       TRAFFIC_ITEM_ID  ORIGINAL_TRAFFIC_ITEM_ID  \\\n",
       "0  3798248000588304094       3124104410382626491   \n",
       "1  3315771682021071064       3331121809586964207   \n",
       "2   190895852957661665       3524764879614559312   \n",
       "\n",
       "  TRAFFIC_ITEM_STATUS_SHORT_DESC TRAFFIC_ITEM_TYPE_DESC  \\\n",
       "0                         ACTIVE          MISCELLANEOUS   \n",
       "1                         ACTIVE           CONSTRUCTION   \n",
       "2                         ACTIVE           ROAD_CLOSURE   \n",
       "\n",
       "                           START_TIME                           END_TIME  \\\n",
       "0      August 29, 2020 8:37:43 AM CDT  September 16, 2020 1:29:30 AM CDT   \n",
       "1  September 15, 2020 11:32:46 PM CDT  September 16, 2020 4:30:18 AM CDT   \n",
       "2      August 28, 2020 3:47:21 PM CDT  September 16, 2020 4:29:30 AM CDT   \n",
       "\n",
       "                           ENTRY_TIME  VERIFIED CRITICAL_VALS INCIDENT_TYPE  \\\n",
       "0  September 15, 2020 11:29:46 PM CDT      True         minor           NaN   \n",
       "1  September 15, 2020 11:32:46 PM CDT      True      critical  construction   \n",
       "2  September 15, 2020 11:29:46 PM CDT      True      critical           NaN   \n",
       "\n",
       "   LATITUDE_START  LONGITUDE_START  LATITUDE_END  LONGITUDE_END  ROAD_CLOSED  \\\n",
       "0        30.21861        -93.32553      30.18356      -93.37612        False   \n",
       "1        29.71297        -94.98707      29.70945      -94.98721         True   \n",
       "2        30.65546        -93.41246      30.76707      -93.53879         True   \n",
       "\n",
       "                      TRAFFIC_DESC  \n",
       "0                     Lane blocked  \n",
       "1  Closed due to road construction  \n",
       "2                           Closed  "
      ]
     },
     "execution_count": 4,
     "metadata": {},
     "output_type": "execute_result"
    }
   ],
   "source": [
    "here = pd.read_csv('./GeoCoding Data/here_api_data.csv')\n",
    "here.head(3)"
   ]
  },
  {
   "cell_type": "markdown",
   "metadata": {},
   "source": [
    "#### Convert Dates to Datetime"
   ]
  },
  {
   "cell_type": "code",
   "execution_count": 54,
   "metadata": {},
   "outputs": [],
   "source": [
    "here['START_TIME'] = pd.to_datetime(here['START_TIME'])\n",
    "here['END_TIME'] = pd.to_datetime(here['END_TIME'])\n",
    "here['ENTRY_TIME'] = pd.to_datetime(here['ENTRY_TIME'])"
   ]
  },
  {
   "cell_type": "markdown",
   "metadata": {},
   "source": [
    "#### Filter by Days of Hurricane Laura & Road Closures"
   ]
  },
  {
   "cell_type": "code",
   "execution_count": 60,
   "metadata": {},
   "outputs": [],
   "source": [
    "#save as a new dataframe\n",
    "here_closures = here[(here['START_TIME'] >= '2020-08-27') & (here['START_TIME'] <= '2020-08-29') & (here['ROAD_CLOSED'] == True)]"
   ]
  },
  {
   "cell_type": "code",
   "execution_count": 61,
   "metadata": {},
   "outputs": [],
   "source": [
    "#save as a csv\n",
    "here_closures.to_csv('./Mapping_The_Data/here_mapping_data.csv', index=False)"
   ]
  },
  {
   "cell_type": "markdown",
   "metadata": {},
   "source": [
    "## LADOT Feed Data"
   ]
  },
  {
   "cell_type": "code",
   "execution_count": 5,
   "metadata": {},
   "outputs": [
    {
     "data": {
      "text/html": [
       "<div>\n",
       "<style scoped>\n",
       "    .dataframe tbody tr th:only-of-type {\n",
       "        vertical-align: middle;\n",
       "    }\n",
       "\n",
       "    .dataframe tbody tr th {\n",
       "        vertical-align: top;\n",
       "    }\n",
       "\n",
       "    .dataframe thead th {\n",
       "        text-align: right;\n",
       "    }\n",
       "</style>\n",
       "<table border=\"1\" class=\"dataframe\">\n",
       "  <thead>\n",
       "    <tr style=\"text-align: right;\">\n",
       "      <th></th>\n",
       "      <th>date</th>\n",
       "      <th>closed</th>\n",
       "      <th>report</th>\n",
       "      <th>query_string</th>\n",
       "      <th>lat</th>\n",
       "      <th>lng</th>\n",
       "      <th>query_score</th>\n",
       "      <th>field_score</th>\n",
       "    </tr>\n",
       "  </thead>\n",
       "  <tbody>\n",
       "    <tr>\n",
       "      <th>0</th>\n",
       "      <td>9/11/2020</td>\n",
       "      <td>NaN</td>\n",
       "      <td>I-10 Eastbound and Westbound from MM 103 (I-49...</td>\n",
       "      <td>I-10+Eastbound+and+Westbound+from+MM+103+(I-49...</td>\n",
       "      <td>0.0</td>\n",
       "      <td>0.0</td>\n",
       "      <td>0.0</td>\n",
       "      <td>0.0</td>\n",
       "    </tr>\n",
       "    <tr>\n",
       "      <th>1</th>\n",
       "      <td>9/11/2020</td>\n",
       "      <td>NaN</td>\n",
       "      <td>I-10 WB from MM 103 to MM 104, St. Martin Pari...</td>\n",
       "      <td>I-10+WB+from+MM+103+to+MM+104,+St.+Martin+Pari...</td>\n",
       "      <td>0.0</td>\n",
       "      <td>0.0</td>\n",
       "      <td>0.0</td>\n",
       "      <td>0.0</td>\n",
       "    </tr>\n",
       "    <tr>\n",
       "      <th>2</th>\n",
       "      <td>9/11/2020</td>\n",
       "      <td>NaN</td>\n",
       "      <td>I-10- Partial Road Closure - Project #: H.0110...</td>\n",
       "      <td>I-10-+Partial+Road+Closure+-+Project+#:+H.0110...</td>\n",
       "      <td>0.0</td>\n",
       "      <td>0.0</td>\n",
       "      <td>0.0</td>\n",
       "      <td>0.0</td>\n",
       "    </tr>\n",
       "  </tbody>\n",
       "</table>\n",
       "</div>"
      ],
      "text/plain": [
       "        date  closed                                             report  \\\n",
       "0  9/11/2020     NaN  I-10 Eastbound and Westbound from MM 103 (I-49...   \n",
       "1  9/11/2020     NaN  I-10 WB from MM 103 to MM 104, St. Martin Pari...   \n",
       "2  9/11/2020     NaN  I-10- Partial Road Closure - Project #: H.0110...   \n",
       "\n",
       "                                        query_string  lat  lng  query_score  \\\n",
       "0  I-10+Eastbound+and+Westbound+from+MM+103+(I-49...  0.0  0.0          0.0   \n",
       "1  I-10+WB+from+MM+103+to+MM+104,+St.+Martin+Pari...  0.0  0.0          0.0   \n",
       "2  I-10-+Partial+Road+Closure+-+Project+#:+H.0110...  0.0  0.0          0.0   \n",
       "\n",
       "  field_score  \n",
       "0         0.0  \n",
       "1         0.0  \n",
       "2         0.0  "
      ]
     },
     "execution_count": 5,
     "metadata": {},
     "output_type": "execute_result"
    }
   ],
   "source": [
    "ladot = pd.read_csv('./GeoCoding Data/ladot_feed_with_geo.csv')\n",
    "ladot.head(3)"
   ]
  },
  {
   "cell_type": "markdown",
   "metadata": {},
   "source": [
    "#### Convert Date to Datetime"
   ]
  },
  {
   "cell_type": "code",
   "execution_count": 66,
   "metadata": {},
   "outputs": [],
   "source": [
    "ladot['date'] = pd.to_datetime(ladot['date'])"
   ]
  },
  {
   "cell_type": "markdown",
   "metadata": {},
   "source": [
    "#### Filter by Days of Hurricane Laura & Road Closures"
   ]
  },
  {
   "cell_type": "code",
   "execution_count": 67,
   "metadata": {},
   "outputs": [],
   "source": [
    "#save as a new dataframe\n",
    "ladot_closures = ladot[(ladot['date'] >= '2020-08-27') & (ladot['date'] <= '2020-08-29') & (ladot['closed'] == 1.0)]"
   ]
  },
  {
   "cell_type": "markdown",
   "metadata": {},
   "source": [
    "#### Check the Quality of the Query Score"
   ]
  },
  {
   "cell_type": "code",
   "execution_count": 70,
   "metadata": {},
   "outputs": [
    {
     "data": {
      "image/png": "[encoded data removed]",
      "text/plain": [
       "<Figure size 432x288 with 1 Axes>"
      ]
     },
     "metadata": {
      "needs_background": "light"
     },
     "output_type": "display_data"
    }
   ],
   "source": [
    "sns.distplot(ladot_closures['query_score'], kde=False);"
   ]
  },
  {
   "cell_type": "code",
   "execution_count": 71,
   "metadata": {},
   "outputs": [],
   "source": [
    "#Let's use a query_score of 0.4 and above to plot on the map\n",
    "ladot_closures = ladot_closures[ladot_closures['query_score'] >= 0.4]"
   ]
  },
  {
   "cell_type": "code",
   "execution_count": 72,
   "metadata": {},
   "outputs": [],
   "source": [
    "# save as a csv \n",
    "ladot_closures.to_csv('./Mapping_The_Data/ladot_mapping_data.csv', index=False)"
   ]
  },
  {
   "cell_type": "code",
   "execution_count": null,
   "metadata": {},
   "outputs": [],
   "source": []
  }
 ],
 "metadata": {
  "kernelspec": {
   "display_name": "Python 3",
   "language": "python",
   "name": "python3"
  },
  "language_info": {
   "codemirror_mode": {
    "name": "ipython",
    "version": 3
   },
   "file_extension": ".py",
   "mimetype": "text/x-python",
   "name": "python",
   "nbconvert_exporter": "python",
   "pygments_lexer": "ipython3",
   "version": "3.7.7"
  }
 },
 "nbformat": 4,
 "nbformat_minor": 4
}
