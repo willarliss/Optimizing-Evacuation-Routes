{
 "cells": [
  {
   "cell_type": "code",
   "execution_count": 1,
   "metadata": {},
   "outputs": [],
   "source": [
    "import requests\n",
    "import pandas as pd\n",
    "import numpy as np\n",
    "import time as time\n",
    "\n",
    "import seaborn as sns\n",
    "import matplotlib.pyplot as plt"
   ]
  },
  {
   "cell_type": "code",
   "execution_count": 2,
   "metadata": {},
   "outputs": [],
   "source": [
    "\n",
    "#allow all columns to be seen. See show all columns\n",
    "pd.set_option('display.max_columns', None)\n",
    "\n",
    "# Source:https://stackoverflow.com/questions/47022070/display-all-dataframe-columns-in-a-jupyter-python-notebook/47022213 \n",
    "\n",
    "#all text to be seen\n",
    "pd.set_option('display.max_colwidth', None)\n",
    "\n",
    "#https://stackoverflow.com/questions/25351968/how-to-display-full-non-truncated-dataframe-information-in-html-when-convertin "
   ]
  },
  {
   "cell_type": "markdown",
   "metadata": {},
   "source": [
    "# Read in the Twitter Data"
   ]
  },
  {
   "cell_type": "code",
   "execution_count": 3,
   "metadata": {},
   "outputs": [
    {
     "data": {
      "text/html": [
       "<div>\n",
       "<style scoped>\n",
       "    .dataframe tbody tr th:only-of-type {\n",
       "        vertical-align: middle;\n",
       "    }\n",
       "\n",
       "    .dataframe tbody tr th {\n",
       "        vertical-align: top;\n",
       "    }\n",
       "\n",
       "    .dataframe thead th {\n",
       "        text-align: right;\n",
       "    }\n",
       "</style>\n",
       "<table border=\"1\" class=\"dataframe\">\n",
       "  <thead>\n",
       "    <tr style=\"text-align: right;\">\n",
       "      <th></th>\n",
       "      <th>Index</th>\n",
       "      <th>User</th>\n",
       "      <th>Text</th>\n",
       "      <th>Date</th>\n",
       "      <th>Favorites</th>\n",
       "      <th>Retweets</th>\n",
       "      <th>Mentions</th>\n",
       "      <th>HashTags</th>\n",
       "      <th>streets</th>\n",
       "      <th>highways</th>\n",
       "      <th>exits</th>\n",
       "      <th>markers</th>\n",
       "      <th>road_closed</th>\n",
       "      <th>predictions</th>\n",
       "    </tr>\n",
       "  </thead>\n",
       "  <tbody>\n",
       "    <tr>\n",
       "      <th>0</th>\n",
       "      <td>591</td>\n",
       "      <td>iembot_lch</td>\n",
       "      <td>At 4:45 PM CDT, Burns Point [St. Mary Co, LA] PUBLIC reports STORM SURGE. STORM SURGE BEGINNING TO COVER PORTIONS OF HIGHWAY 317. PHOTOS VIA SOCIAL MEDIA. https://mesonet.agron.iastate.edu/lsr/#LCH/202008262145/202008262145</td>\n",
       "      <td>2020-08-27 21:47:48+00:00</td>\n",
       "      <td>0</td>\n",
       "      <td>0</td>\n",
       "      <td>NaN</td>\n",
       "      <td>NaN</td>\n",
       "      <td>[]</td>\n",
       "      <td>['highway 317']</td>\n",
       "      <td>[]</td>\n",
       "      <td>[]</td>\n",
       "      <td>0.0</td>\n",
       "      <td>0.0</td>\n",
       "    </tr>\n",
       "    <tr>\n",
       "      <th>1</th>\n",
       "      <td>646</td>\n",
       "      <td>TotalTrafficBTR</td>\n",
       "      <td>Downed tree cleared in #WestBatonRouge on I 10 WB after LA-415/Lobdell/Exit 151 and before LA-77/Rosedale/Grosse Tete/Exit 139 #traffic http://bit.ly/12oyfoo</td>\n",
       "      <td>2020-08-27 11:50:43+00:00</td>\n",
       "      <td>0</td>\n",
       "      <td>0</td>\n",
       "      <td>NaN</td>\n",
       "      <td>#WestBatonRouge #traffic</td>\n",
       "      <td>[]</td>\n",
       "      <td>[]</td>\n",
       "      <td>['exit 151', 'exit 139']</td>\n",
       "      <td>[]</td>\n",
       "      <td>NaN</td>\n",
       "      <td>0.0</td>\n",
       "    </tr>\n",
       "  </tbody>\n",
       "</table>\n",
       "</div>"
      ],
      "text/plain": [
       "   Index             User  \\\n",
       "0    591       iembot_lch   \n",
       "1    646  TotalTrafficBTR   \n",
       "\n",
       "                                                                                                                                                                                                                              Text  \\\n",
       "0  At 4:45 PM CDT, Burns Point [St. Mary Co, LA] PUBLIC reports STORM SURGE. STORM SURGE BEGINNING TO COVER PORTIONS OF HIGHWAY 317. PHOTOS VIA SOCIAL MEDIA. https://mesonet.agron.iastate.edu/lsr/#LCH/202008262145/202008262145   \n",
       "1                                                                    Downed tree cleared in #WestBatonRouge on I 10 WB after LA-415/Lobdell/Exit 151 and before LA-77/Rosedale/Grosse Tete/Exit 139 #traffic http://bit.ly/12oyfoo   \n",
       "\n",
       "                        Date  Favorites  Retweets Mentions  \\\n",
       "0  2020-08-27 21:47:48+00:00          0         0      NaN   \n",
       "1  2020-08-27 11:50:43+00:00          0         0      NaN   \n",
       "\n",
       "                   HashTags streets         highways  \\\n",
       "0                       NaN      []  ['highway 317']   \n",
       "1  #WestBatonRouge #traffic      []               []   \n",
       "\n",
       "                      exits markers  road_closed  predictions  \n",
       "0                        []      []          0.0          0.0  \n",
       "1  ['exit 151', 'exit 139']      []          NaN          0.0  "
      ]
     },
     "execution_count": 3,
     "metadata": {},
     "output_type": "execute_result"
    }
   ],
   "source": [
    "tweets = pd.read_csv('./tweets_data/tweets_predictions.csv')\n",
    "tweets.head(2)"
   ]
  },
  {
   "cell_type": "code",
   "execution_count": 4,
   "metadata": {},
   "outputs": [
    {
     "data": {
      "text/plain": [
       "(1037, 14)"
      ]
     },
     "execution_count": 4,
     "metadata": {},
     "output_type": "execute_result"
    }
   ],
   "source": [
    "tweets.shape"
   ]
  },
  {
   "cell_type": "markdown",
   "metadata": {},
   "source": [
    "# Prep the Data"
   ]
  },
  {
   "cell_type": "markdown",
   "metadata": {},
   "source": [
    "## Convert the data into a `query_string` column"
   ]
  },
  {
   "cell_type": "code",
   "execution_count": 104,
   "metadata": {},
   "outputs": [],
   "source": [
    "#Take streets, highways, exits, and markers and put them in one column\n",
    "tweets['query'] = tweets['streets'] + tweets['highways'] + tweets['exits'] + tweets['markers']"
   ]
  },
  {
   "cell_type": "code",
   "execution_count": 105,
   "metadata": {},
   "outputs": [],
   "source": [
    "#remove brackets\n",
    "tweets['query'] = [val.replace('[]','') for val in tweets['query'].values]\n",
    "tweets['query'] = [val.replace('][',',') for val in tweets['query'].values]\n",
    "tweets['query'] = [val.replace(']','') for val in tweets['query'].values]\n",
    "tweets['query'] = [val.replace('[','') for val in tweets['query'].values]"
   ]
  },
  {
   "cell_type": "code",
   "execution_count": 106,
   "metadata": {},
   "outputs": [],
   "source": [
    "query = []\n",
    "\n",
    "#url encode the column\n",
    "for val in tweets['query']:\n",
    "    val = val.replace(',','%2C+')\n",
    "    val = val.replace(' ','+')\n",
    "    val = val.replace(\"'\",'')\n",
    "    val = val.replace(\"\",'')\n",
    "    s = ''.join(val)\n",
    "    query.append(s)"
   ]
  },
  {
   "cell_type": "code",
   "execution_count": 107,
   "metadata": {},
   "outputs": [
    {
     "data": {
      "text/html": [
       "<div>\n",
       "<style scoped>\n",
       "    .dataframe tbody tr th:only-of-type {\n",
       "        vertical-align: middle;\n",
       "    }\n",
       "\n",
       "    .dataframe tbody tr th {\n",
       "        vertical-align: top;\n",
       "    }\n",
       "\n",
       "    .dataframe thead th {\n",
       "        text-align: right;\n",
       "    }\n",
       "</style>\n",
       "<table border=\"1\" class=\"dataframe\">\n",
       "  <thead>\n",
       "    <tr style=\"text-align: right;\">\n",
       "      <th></th>\n",
       "      <th>Index</th>\n",
       "      <th>User</th>\n",
       "      <th>Text</th>\n",
       "      <th>Date</th>\n",
       "      <th>Favorites</th>\n",
       "      <th>Retweets</th>\n",
       "      <th>Mentions</th>\n",
       "      <th>HashTags</th>\n",
       "      <th>streets</th>\n",
       "      <th>highways</th>\n",
       "      <th>exits</th>\n",
       "      <th>markers</th>\n",
       "      <th>road_closed</th>\n",
       "      <th>predictions</th>\n",
       "      <th>query</th>\n",
       "      <th>query_string</th>\n",
       "    </tr>\n",
       "  </thead>\n",
       "  <tbody>\n",
       "    <tr>\n",
       "      <th>0</th>\n",
       "      <td>591</td>\n",
       "      <td>iembot_lch</td>\n",
       "      <td>At 4:45 PM CDT, Burns Point [St. Mary Co, LA] PUBLIC reports STORM SURGE. STORM SURGE BEGINNING TO COVER PORTIONS OF HIGHWAY 317. PHOTOS VIA SOCIAL MEDIA. https://mesonet.agron.iastate.edu/lsr/#LCH/202008262145/202008262145</td>\n",
       "      <td>2020-08-27 21:47:48+00:00</td>\n",
       "      <td>0</td>\n",
       "      <td>0</td>\n",
       "      <td>NaN</td>\n",
       "      <td>NaN</td>\n",
       "      <td>[]</td>\n",
       "      <td>['highway 317']</td>\n",
       "      <td>[]</td>\n",
       "      <td>[]</td>\n",
       "      <td>0.0</td>\n",
       "      <td>0.0</td>\n",
       "      <td>'highway 317'</td>\n",
       "      <td>highway+317</td>\n",
       "    </tr>\n",
       "    <tr>\n",
       "      <th>1</th>\n",
       "      <td>646</td>\n",
       "      <td>TotalTrafficBTR</td>\n",
       "      <td>Downed tree cleared in #WestBatonRouge on I 10 WB after LA-415/Lobdell/Exit 151 and before LA-77/Rosedale/Grosse Tete/Exit 139 #traffic http://bit.ly/12oyfoo</td>\n",
       "      <td>2020-08-27 11:50:43+00:00</td>\n",
       "      <td>0</td>\n",
       "      <td>0</td>\n",
       "      <td>NaN</td>\n",
       "      <td>#WestBatonRouge #traffic</td>\n",
       "      <td>[]</td>\n",
       "      <td>[]</td>\n",
       "      <td>['exit 151', 'exit 139']</td>\n",
       "      <td>[]</td>\n",
       "      <td>NaN</td>\n",
       "      <td>0.0</td>\n",
       "      <td>'exit 151', 'exit 139'</td>\n",
       "      <td>exit+151%2C++exit+139</td>\n",
       "    </tr>\n",
       "  </tbody>\n",
       "</table>\n",
       "</div>"
      ],
      "text/plain": [
       "   Index             User  \\\n",
       "0    591       iembot_lch   \n",
       "1    646  TotalTrafficBTR   \n",
       "\n",
       "                                                                                                                                                                                                                              Text  \\\n",
       "0  At 4:45 PM CDT, Burns Point [St. Mary Co, LA] PUBLIC reports STORM SURGE. STORM SURGE BEGINNING TO COVER PORTIONS OF HIGHWAY 317. PHOTOS VIA SOCIAL MEDIA. https://mesonet.agron.iastate.edu/lsr/#LCH/202008262145/202008262145   \n",
       "1                                                                    Downed tree cleared in #WestBatonRouge on I 10 WB after LA-415/Lobdell/Exit 151 and before LA-77/Rosedale/Grosse Tete/Exit 139 #traffic http://bit.ly/12oyfoo   \n",
       "\n",
       "                        Date  Favorites  Retweets Mentions  \\\n",
       "0  2020-08-27 21:47:48+00:00          0         0      NaN   \n",
       "1  2020-08-27 11:50:43+00:00          0         0      NaN   \n",
       "\n",
       "                   HashTags streets         highways  \\\n",
       "0                       NaN      []  ['highway 317']   \n",
       "1  #WestBatonRouge #traffic      []               []   \n",
       "\n",
       "                      exits markers  road_closed  predictions  \\\n",
       "0                        []      []          0.0          0.0   \n",
       "1  ['exit 151', 'exit 139']      []          NaN          0.0   \n",
       "\n",
       "                    query           query_string  \n",
       "0           'highway 317'            highway+317  \n",
       "1  'exit 151', 'exit 139'  exit+151%2C++exit+139  "
      ]
     },
     "execution_count": 107,
     "metadata": {},
     "output_type": "execute_result"
    }
   ],
   "source": [
    "#create the query_string column\n",
    "tweets['query_string'] = query\n",
    "tweets.head(2)"
   ]
  },
  {
   "cell_type": "markdown",
   "metadata": {},
   "source": [
    "# GET Lat/Lng from HERE API"
   ]
  },
  {
   "cell_type": "markdown",
   "metadata": {},
   "source": [
    "`queryScore` – a value from `0` to `1` representing the percentage of the input that matched the returned address. It is equal to `1` if all input tokens were recognized and matched. If the input query contains any additional information – name of the person, phone number or a hint to ring twice – the `queryScore` will be low, but the result may be correct. But low queryScore may indicate that the result does not match some relevant part of the address in the input query.\n",
    "\n",
    "`fieldScore` – values from `0` to `1` indicating how good the result field matches to the corresponding part of the query. If all the fields that are important for addressing in the country are matched with high quality, one can assume, that queryScore is low because of the additional non-address information. And the result is still confident.\n",
    "\n",
    "Resource: https://developer.here.com/documentation/geocoding-search-api/dev_guide/topics-api/code-geocode-hybrid.html"
   ]
  },
  {
   "cell_type": "code",
   "execution_count": 5,
   "metadata": {},
   "outputs": [],
   "source": [
    "api_key = '<add api key here>' #commented out for privacy reasons"
   ]
  },
  {
   "cell_type": "code",
   "execution_count": 7,
   "metadata": {},
   "outputs": [],
   "source": [
    "# get the lat and long for all values\n",
    "\n",
    "#there must be a 'query_string' column in the data frame\n",
    "def get_lat_lng(df,state):\n",
    "    lat = []\n",
    "    lng = []\n",
    "    query_score = []\n",
    "    field_score = []\n",
    "\n",
    "    for row in df['query_string']:\n",
    "        res=requests.get('https://geocode.search.hereapi.com/v1/geocode?q=' + row + '&qq=state='+ state + '&apiKey=' + api_key) #create the api get request\n",
    "        time.sleep(2) #add a sleep to not hit servers too hard\n",
    "        json = res.json() #extract json\n",
    "\n",
    "        #if no value is returned, just put 0.0\n",
    "        try:\n",
    "            #append to lat\n",
    "            lat.append(json['items'][0]['position']['lat'])\n",
    "\n",
    "            #append to long\n",
    "            lng.append(json['items'][0]['position']['lng'])\n",
    "\n",
    "            #append to query_score\n",
    "            query_score.append(json['items'][0]['scoring']['queryScore'])\n",
    "\n",
    "            #append to field_score\n",
    "            field_score.append(json['items'][0]['scoring']['fieldScore'])\n",
    "\n",
    "        except IndexError:\n",
    "            #append to lat\n",
    "            lat.append(0.0)\n",
    "\n",
    "            #append to long\n",
    "            lng.append(0.0)\n",
    "\n",
    "            #append to query_score\n",
    "            query_score.append(0.0)\n",
    "\n",
    "            #append to field_score\n",
    "            field_score.append(0.0)\n",
    "        \n",
    "        except KeyError:\n",
    "            #append to lat\n",
    "            lat.append(0.0)\n",
    "\n",
    "            #append to long\n",
    "            lng.append(0.0)\n",
    "\n",
    "            #append to query_score\n",
    "            query_score.append(0.0)\n",
    "\n",
    "            #append to field_score\n",
    "            field_score.append(0.0)\n",
    "    \n",
    "    #Add columns to the dataframe\n",
    "    df['lat'] = lat\n",
    "    df['lng'] = lng\n",
    "    df['query_score'] = query_score\n",
    "    df['field_score'] = field_score\n",
    "    \n",
    "    return df\n"
   ]
  },
  {
   "cell_type": "markdown",
   "metadata": {},
   "source": [
    "# GET lat/lng from Twitter Data"
   ]
  },
  {
   "cell_type": "code",
   "execution_count": 110,
   "metadata": {},
   "outputs": [
    {
     "name": "stdout",
     "output_type": "stream",
     "text": [
      "Time to run: 43.55741340319316 mins\n"
     ]
    }
   ],
   "source": [
    "time0 = time.time() #start timer\n",
    "\n",
    "tweets_with_geo = get_lat_lng(tweets,'Louisana') #run function\n",
    "\n",
    "print(f'Time to run: {(time.time() - time0) / 60} mins')"
   ]
  },
  {
   "cell_type": "code",
   "execution_count": 112,
   "metadata": {},
   "outputs": [],
   "source": [
    "tweets.to_csv('./GeoCoding Data/tweets_with_geo.csv',index=False)"
   ]
  },
  {
   "cell_type": "markdown",
   "metadata": {},
   "source": [
    "# LADOT FEED"
   ]
  },
  {
   "cell_type": "code",
   "execution_count": 6,
   "metadata": {},
   "outputs": [
    {
     "data": {
      "text/html": [
       "<div>\n",
       "<style scoped>\n",
       "    .dataframe tbody tr th:only-of-type {\n",
       "        vertical-align: middle;\n",
       "    }\n",
       "\n",
       "    .dataframe tbody tr th {\n",
       "        vertical-align: top;\n",
       "    }\n",
       "\n",
       "    .dataframe thead th {\n",
       "        text-align: right;\n",
       "    }\n",
       "</style>\n",
       "<table border=\"1\" class=\"dataframe\">\n",
       "  <thead>\n",
       "    <tr style=\"text-align: right;\">\n",
       "      <th></th>\n",
       "      <th>date</th>\n",
       "      <th>report</th>\n",
       "    </tr>\n",
       "  </thead>\n",
       "  <tbody>\n",
       "    <tr>\n",
       "      <th>0</th>\n",
       "      <td>9/11/2020</td>\n",
       "      <td>I-10 Eastbound and Westbound from MM 103 (I-49) to MM 109 (LA 328 – Breaux Bridge), Lafayette/St. Martin Parish – Intermittent Short Term Lane Closure</td>\n",
       "    </tr>\n",
       "    <tr>\n",
       "      <th>1</th>\n",
       "      <td>9/11/2020</td>\n",
       "      <td>I-10 WB from MM 103 to MM 104, St. Martin Parish, Lane Closure H.003003</td>\n",
       "    </tr>\n",
       "    <tr>\n",
       "      <th>2</th>\n",
       "      <td>9/11/2020</td>\n",
       "      <td>I-10- Partial Road Closure - Project #: H.011024 - St. Tammany Parish (Oak Harbor Blvd.)</td>\n",
       "    </tr>\n",
       "  </tbody>\n",
       "</table>\n",
       "</div>"
      ],
      "text/plain": [
       "        date  \\\n",
       "0  9/11/2020   \n",
       "1  9/11/2020   \n",
       "2  9/11/2020   \n",
       "\n",
       "                                                                                                                                                   report  \n",
       "0  I-10 Eastbound and Westbound from MM 103 (I-49) to MM 109 (LA 328 – Breaux Bridge), Lafayette/St. Martin Parish – Intermittent Short Term Lane Closure  \n",
       "1                                                                                 I-10 WB from MM 103 to MM 104, St. Martin Parish, Lane Closure H.003003  \n",
       "2                                                                I-10- Partial Road Closure - Project #: H.011024 - St. Tammany Parish (Oak Harbor Blvd.)  "
      ]
     },
     "execution_count": 6,
     "metadata": {},
     "output_type": "execute_result"
    }
   ],
   "source": [
    "ladot_feed = pd.read_csv('./LADOTD Data/road_closures.csv')\n",
    "ladot_feed.head(3)"
   ]
  },
  {
   "cell_type": "markdown",
   "metadata": {},
   "source": [
    "## Create the query string"
   ]
  },
  {
   "cell_type": "code",
   "execution_count": 16,
   "metadata": {},
   "outputs": [
    {
     "data": {
      "text/html": [
       "<div>\n",
       "<style scoped>\n",
       "    .dataframe tbody tr th:only-of-type {\n",
       "        vertical-align: middle;\n",
       "    }\n",
       "\n",
       "    .dataframe tbody tr th {\n",
       "        vertical-align: top;\n",
       "    }\n",
       "\n",
       "    .dataframe thead th {\n",
       "        text-align: right;\n",
       "    }\n",
       "</style>\n",
       "<table border=\"1\" class=\"dataframe\">\n",
       "  <thead>\n",
       "    <tr style=\"text-align: right;\">\n",
       "      <th></th>\n",
       "      <th>date</th>\n",
       "      <th>closed</th>\n",
       "      <th>report</th>\n",
       "      <th>query_string</th>\n",
       "    </tr>\n",
       "  </thead>\n",
       "  <tbody>\n",
       "    <tr>\n",
       "      <th>0</th>\n",
       "      <td>9/11/2020</td>\n",
       "      <td>NaN</td>\n",
       "      <td>I-10 Eastbound and Westbound from MM 103 (I-49) to MM 109 (LA 328 – Breaux Bridge), Lafayette/St. Martin Parish – Intermittent Short Term Lane Closure</td>\n",
       "      <td>I-10+Eastbound+and+Westbound+from+MM+103+(I-49)+to+MM+109+(LA+328+–+Breaux+Bridge),+Lafayette/St.+Martin+Parish+–+Intermittent+Short+Term+Lane+Closure</td>\n",
       "    </tr>\n",
       "    <tr>\n",
       "      <th>1</th>\n",
       "      <td>9/11/2020</td>\n",
       "      <td>NaN</td>\n",
       "      <td>I-10 WB from MM 103 to MM 104, St. Martin Parish, Lane Closure H.003003</td>\n",
       "      <td>I-10+WB+from+MM+103+to+MM+104,+St.+Martin+Parish,+Lane+Closure+H.003003</td>\n",
       "    </tr>\n",
       "    <tr>\n",
       "      <th>2</th>\n",
       "      <td>9/11/2020</td>\n",
       "      <td>NaN</td>\n",
       "      <td>I-10- Partial Road Closure - Project #: H.011024 - St. Tammany Parish (Oak Harbor Blvd.)</td>\n",
       "      <td>I-10-+Partial+Road+Closure+-+Project+#:+H.011024+-+St.+Tammany+Parish+(Oak+Harbor+Blvd.)</td>\n",
       "    </tr>\n",
       "  </tbody>\n",
       "</table>\n",
       "</div>"
      ],
      "text/plain": [
       "        date  closed  \\\n",
       "0  9/11/2020     NaN   \n",
       "1  9/11/2020     NaN   \n",
       "2  9/11/2020     NaN   \n",
       "\n",
       "                                                                                                                                                   report  \\\n",
       "0  I-10 Eastbound and Westbound from MM 103 (I-49) to MM 109 (LA 328 – Breaux Bridge), Lafayette/St. Martin Parish – Intermittent Short Term Lane Closure   \n",
       "1                                                                                 I-10 WB from MM 103 to MM 104, St. Martin Parish, Lane Closure H.003003   \n",
       "2                                                                I-10- Partial Road Closure - Project #: H.011024 - St. Tammany Parish (Oak Harbor Blvd.)   \n",
       "\n",
       "                                                                                                                                             query_string  \n",
       "0  I-10+Eastbound+and+Westbound+from+MM+103+(I-49)+to+MM+109+(LA+328+–+Breaux+Bridge),+Lafayette/St.+Martin+Parish+–+Intermittent+Short+Term+Lane+Closure  \n",
       "1                                                                                 I-10+WB+from+MM+103+to+MM+104,+St.+Martin+Parish,+Lane+Closure+H.003003  \n",
       "2                                                                I-10-+Partial+Road+Closure+-+Project+#:+H.011024+-+St.+Tammany+Parish+(Oak+Harbor+Blvd.)  "
      ]
     },
     "execution_count": 16,
     "metadata": {},
     "output_type": "execute_result"
    }
   ],
   "source": [
    "ladot_feed['query_string'] = [val.replace(' ','+') for val in ladot_feed['report']] #here api will process out the extra words\n",
    "ladot_feed.head(3) #check work"
   ]
  },
  {
   "cell_type": "markdown",
   "metadata": {},
   "source": [
    "## Run the function to get lat/lng"
   ]
  },
  {
   "cell_type": "code",
   "execution_count": 17,
   "metadata": {},
   "outputs": [
    {
     "name": "stdout",
     "output_type": "stream",
     "text": [
      "Time to run: 30.976319766044618 mins\n"
     ]
    }
   ],
   "source": [
    "time0 = time.time()\n",
    "\n",
    "ladot_feed_with_geo =  get_lat_lng(ladot_feed,'Louisiana')\n",
    "\n",
    "print(f'Time to run: {(time.time() - time0) / 60} mins')"
   ]
  },
  {
   "cell_type": "code",
   "execution_count": 20,
   "metadata": {},
   "outputs": [],
   "source": [
    "ladot_feed_with_geo.to_csv('./GeoCoding Data/ladot_feed_with_geo.csv',index=False)"
   ]
  },
  {
   "cell_type": "code",
   "execution_count": null,
   "metadata": {},
   "outputs": [],
   "source": []
  }
 ],
 "metadata": {
  "kernelspec": {
   "display_name": "Python 3",
   "language": "python",
   "name": "python3"
  },
  "language_info": {
   "codemirror_mode": {
    "name": "ipython",
    "version": 3
   },
   "file_extension": ".py",
   "mimetype": "text/x-python",
   "name": "python",
   "nbconvert_exporter": "python",
   "pygments_lexer": "ipython3",
   "version": "3.7.7"
  }
 },
 "nbformat": 4,
 "nbformat_minor": 4
}
