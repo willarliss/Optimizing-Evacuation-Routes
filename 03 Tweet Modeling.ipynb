{
 "cells": [
  {
   "cell_type": "code",
   "execution_count": 2,
   "metadata": {},
   "outputs": [],
   "source": [
    "import pandas as pd\n",
    "import numpy as np\n",
    "import seaborn as sns\n",
    "\n",
    "from sklearn.model_selection import train_test_split, cross_val_score, GridSearchCV\n",
    "from sklearn.pipeline import Pipeline\n",
    "from sklearn.ensemble import BaggingClassifier\n",
    "from sklearn.feature_extraction.text import TfidfVectorizer\n",
    "from sklearn.feature_extraction.text import CountVectorizer\n",
    "from sklearn.naive_bayes import MultinomialNB\n",
    "from sklearn.tree import DecisionTreeClassifier\n",
    "from sklearn.ensemble import AdaBoostClassifier, GradientBoostingClassifier\n",
    "from sklearn.svm import SVC\n",
    "\n",
    "from sklearn.metrics import plot_confusion_matrix"
   ]
  },
  {
   "cell_type": "code",
   "execution_count": 3,
   "metadata": {},
   "outputs": [],
   "source": [
    "sns.set_context(\"talk\", font_scale = 0.8)"
   ]
  },
  {
   "cell_type": "markdown",
   "metadata": {},
   "source": [
    "### Data Prep"
   ]
  },
  {
   "cell_type": "code",
   "execution_count": 4,
   "metadata": {},
   "outputs": [],
   "source": [
    "df = pd.read_csv('./tweets_data/training_tweets.csv')"
   ]
  },
  {
   "cell_type": "code",
   "execution_count": 5,
   "metadata": {},
   "outputs": [
    {
     "data": {
      "text/plain": [
       "0        True\n",
       "1       False\n",
       "2        True\n",
       "3        True\n",
       "4        True\n",
       "        ...  \n",
       "1032    False\n",
       "1033    False\n",
       "1034    False\n",
       "1035    False\n",
       "1036    False\n",
       "Name: road_closed, Length: 1037, dtype: bool"
      ]
     },
     "execution_count": 5,
     "metadata": {},
     "output_type": "execute_result"
    }
   ],
   "source": [
    "df['road_closed'].notnull()"
   ]
  },
  {
   "cell_type": "code",
   "execution_count": 6,
   "metadata": {},
   "outputs": [],
   "source": [
    "train = df[(df['road_closed'] == 1) | (df['road_closed'] == 0)]"
   ]
  },
  {
   "cell_type": "code",
   "execution_count": 7,
   "metadata": {},
   "outputs": [],
   "source": [
    "X_train, X_test, y_train, y_test = train_test_split(train['Text'], train['road_closed'], random_state = 1)"
   ]
  },
  {
   "cell_type": "markdown",
   "metadata": {},
   "source": [
    "### Pipelines and Gridsearching"
   ]
  },
  {
   "cell_type": "code",
   "execution_count": 1096,
   "metadata": {},
   "outputs": [
    {
     "name": "stdout",
     "output_type": "stream",
     "text": [
      "{'nb__alpha': 0.05, 'tvec__max_features': 500, 'tvec__ngram_range': (1, 2), 'tvec__stop_words': None}\n",
      "best gs score:  0.9039193302891934\n",
      "testing score:  0.8767123287671232\n"
     ]
    }
   ],
   "source": [
    "pipe = Pipeline([\n",
    "    ('tvec' , TfidfVectorizer()),\n",
    "    ('nb', MultinomialNB())\n",
    "])\n",
    "\n",
    "params = {'tvec__stop_words' : [None, \"english\"],\n",
    "          'tvec__max_features' : [None, 300, 500, 700],\n",
    "          'tvec__ngram_range' : [(1,1), (1,2), (1,3)],\n",
    "          'nb__alpha' : [0.05, 0.1, .2]}\n",
    "\n",
    "gs = GridSearchCV(pipe, params, n_jobs=3, cv = 6)\n",
    "\n",
    "gs.fit(X_train, y_train)\n",
    "\n",
    "nb_tv = gs.best_estimator_\n",
    "nb_tv.fit(X_train, y_train)\n",
    "\n",
    "print(gs.best_params_)\n",
    "print(\"best gs score: \", gs.best_score_)\n",
    "print(\"testing score: \", gs.score(X_test, y_test))"
   ]
  },
  {
   "cell_type": "code",
   "execution_count": 1142,
   "metadata": {},
   "outputs": [
    {
     "data": {
      "image/png": "[encoded data removed]",
      "text/plain": [
       "<Figure size 432x288 with 2 Axes>"
      ]
     },
     "metadata": {
      "needs_background": "light"
     },
     "output_type": "display_data"
    }
   ],
   "source": [
    "plot_confusion_matrix(nb_tv, X_test, y_test, cmap = \"Purples\");"
   ]
  },
  {
   "cell_type": "code",
   "execution_count": 1098,
   "metadata": {},
   "outputs": [
    {
     "name": "stdout",
     "output_type": "stream",
     "text": [
      "{'cvec__max_features': 500, 'cvec__ngram_range': (1, 3), 'cvec__stop_words': None, 'nb__alpha': 0.01}\n",
      "best gs score:  0.9039193302891934\n",
      "testing score:  0.8767123287671232\n"
     ]
    }
   ],
   "source": [
    "pipe = Pipeline([\n",
    "    ('cvec' , CountVectorizer()),\n",
    "    ('nb', MultinomialNB())\n",
    "])\n",
    "\n",
    "params = {'cvec__stop_words' : [None, \"english\"],\n",
    "          'cvec__max_features' : [None, 400, 500, 600],\n",
    "          'cvec__ngram_range' : [(1,2), (1,3), (1,4)],\n",
    "          'nb__alpha' : [0.01, 0.005, 0.03]}\n",
    "\n",
    "gs = GridSearchCV(pipe, params, n_jobs=3, cv = 6)\n",
    "\n",
    "gs.fit(X_train, y_train)\n",
    "\n",
    "nb_cv = gs.best_estimator_\n",
    "nb_cv.fit(X_train, y_train)\n",
    "\n",
    "print(gs.best_params_)\n",
    "print(\"best gs score: \", gs.best_score_)\n",
    "print(\"testing score: \", gs.score(X_test, y_test))"
   ]
  },
  {
   "cell_type": "code",
   "execution_count": 1143,
   "metadata": {},
   "outputs": [
    {
     "data": {
      "text/plain": [
       "<sklearn.metrics._plot.confusion_matrix.ConfusionMatrixDisplay at 0x2991a3dee48>"
      ]
     },
     "execution_count": 1143,
     "metadata": {},
     "output_type": "execute_result"
    },
    {
     "data": {
      "image/png": "[encoded data removed]",
      "text/plain": [
       "<Figure size 432x288 with 2 Axes>"
      ]
     },
     "metadata": {
      "needs_background": "light"
     },
     "output_type": "display_data"
    }
   ],
   "source": [
    "plot_confusion_matrix(nb_cv, X_test, y_test, cmap = \"Blues\")"
   ]
  },
  {
   "cell_type": "code",
   "execution_count": 33,
   "metadata": {},
   "outputs": [
    {
     "name": "stdout",
     "output_type": "stream",
     "text": [
      "{'ada__learning_rate': 0.13, 'ada__n_estimators': 100, 'tvec__max_features': 550, 'tvec__ngram_range': (1, 1), 'tvec__stop_words': None}\n",
      "best gs score:  0.9039510400811771\n",
      "testing score:  0.8972602739726028\n"
     ]
    }
   ],
   "source": [
    "pipe = Pipeline([\n",
    "    ('tvec' , TfidfVectorizer()),\n",
    "    ('ada', AdaBoostClassifier())\n",
    "])\n",
    "\n",
    "params = {'tvec__stop_words' : [None],\n",
    "          'tvec__max_features' : [None, 550, 600, 650],\n",
    "          'tvec__ngram_range' : [(1,1), (1,2)],\n",
    "          'ada__n_estimators' : [80, 90, 100],\n",
    "          'ada__learning_rate' : [.12, 0.13, 0.11]}\n",
    "\n",
    "gs = GridSearchCV(pipe, params, n_jobs=3, cv = 6)\n",
    "\n",
    "gs.fit(X_train, y_train)\n",
    "\n",
    "ada = gs.best_estimator_\n",
    "ada.fit(X_train, y_train)\n",
    "\n",
    "print(gs.best_params_)\n",
    "print(\"best gs score: \", gs.best_score_)\n",
    "print(\"testing score: \", gs.score(X_test, y_test))"
   ]
  },
  {
   "cell_type": "code",
   "execution_count": 34,
   "metadata": {},
   "outputs": [
    {
     "data": {
      "image/png": "[encoded data removed]",
      "text/plain": [
       "<Figure size 720x576 with 2 Axes>"
      ]
     },
     "metadata": {
      "needs_background": "light"
     },
     "output_type": "display_data"
    }
   ],
   "source": [
    "import matplotlib.pyplot as plt\n",
    "fig, ax = plt.subplots(figsize = (10,8))\n",
    "plot_confusion_matrix(ada, X_test, y_test, cmap = \"Blues\", ax = ax, display_labels = [\"Not Closure\", \"Closure\"])\n",
    "plt.title(\"Confusion Matrix\", fontsize = 18);"
   ]
  },
  {
   "cell_type": "code",
   "execution_count": 8,
   "metadata": {},
   "outputs": [
    {
     "name": "stdout",
     "output_type": "stream",
     "text": [
      "{'dt__max_depth': 5, 'dt__min_samples_split': 5, 'tvec__max_features': None, 'tvec__ngram_range': (1, 2), 'tvec__stop_words': None}\n",
      "best gs score:  0.8741121258244545\n",
      "testing score:  0.8287671232876712\n"
     ]
    }
   ],
   "source": [
    "pipe = Pipeline([\n",
    "    ('tvec' , TfidfVectorizer()),\n",
    "    ('dt', DecisionTreeClassifier())\n",
    "])\n",
    "\n",
    "params = {'tvec__stop_words' : [\"english\", None],\n",
    "          'tvec__max_features' : [None, 400, 500, 600],\n",
    "          'tvec__ngram_range' : [(1,2), (1,3), (1,4)],\n",
    "          'dt__max_depth' : [None, 5, 7, 10],\n",
    "          'dt__min_samples_split' : [2,3,5]}\n",
    "\n",
    "gs = GridSearchCV(pipe, params, n_jobs=3, cv = 6)\n",
    "\n",
    "gs.fit(X_train, y_train)\n",
    "\n",
    "dt = gs.best_estimator_\n",
    "dt.fit(X_train, y_train)\n",
    "\n",
    "print(gs.best_params_)\n",
    "print(\"best gs score: \", gs.best_score_)\n",
    "print(\"testing score: \", gs.score(X_test, y_test))"
   ]
  },
  {
   "cell_type": "code",
   "execution_count": 10,
   "metadata": {},
   "outputs": [
    {
     "data": {
      "text/plain": [
       "<sklearn.metrics._plot.confusion_matrix.ConfusionMatrixDisplay at 0x1721820db08>"
      ]
     },
     "execution_count": 10,
     "metadata": {},
     "output_type": "execute_result"
    },
    {
     "data": {
      "image/png": "[encoded data removed]",
      "text/plain": [
       "<Figure size 432x288 with 2 Axes>"
      ]
     },
     "metadata": {
      "needs_background": "light"
     },
     "output_type": "display_data"
    }
   ],
   "source": [
    "plot_confusion_matrix(dt, X_test, y_test, cmap = \"Greens\")"
   ]
  },
  {
   "cell_type": "code",
   "execution_count": 1110,
   "metadata": {},
   "outputs": [
    {
     "name": "stdout",
     "output_type": "stream",
     "text": [
      "{'svc__C': 0.85, 'svc__degree': 2, 'svc__kernel': 'poly', 'tvec__max_features': 275, 'tvec__ngram_range': (1, 3), 'tvec__stop_words': None}\n",
      "best gs score:  0.9176496702181632\n",
      "testing score:  0.8904109589041096\n"
     ]
    }
   ],
   "source": [
    "svc_est = SVC()\n",
    "\n",
    "pipe = Pipeline([\n",
    "    ('tvec' , TfidfVectorizer()),\n",
    "    ('svc', SVC())\n",
    "])\n",
    "\n",
    "params = {'tvec__stop_words' : [\"english\", None],\n",
    "          'tvec__max_features' : [250, 275, 300],\n",
    "          'tvec__ngram_range' : [(1,4), (1,2), (1,3),],\n",
    "          'svc__kernel' : ['poly'],\n",
    "          'svc__degree' : [2],\n",
    "          'svc__C' : [1, .85, .75, .5]}\n",
    "\n",
    "gs = GridSearchCV(pipe, params, n_jobs=3, cv = 6)\n",
    "\n",
    "gs.fit(X_train, y_train)\n",
    "\n",
    "svc = gs.best_estimator_\n",
    "svc.fit(X_train, y_train)\n",
    "\n",
    "print(gs.best_params_)\n",
    "print(\"best gs score: \", gs.best_score_)\n",
    "print(\"testing score: \", gs.score(X_test, y_test))"
   ]
  },
  {
   "cell_type": "code",
   "execution_count": 1197,
   "metadata": {},
   "outputs": [
    {
     "data": {
      "text/plain": [
       "<sklearn.metrics._plot.confusion_matrix.ConfusionMatrixDisplay at 0x299186dc248>"
      ]
     },
     "execution_count": 1197,
     "metadata": {},
     "output_type": "execute_result"
    },
    {
     "data": {
      "image/png": "[encoded data removed]",
      "text/plain": [
       "<Figure size 432x288 with 2 Axes>"
      ]
     },
     "metadata": {
      "needs_background": "light"
     },
     "output_type": "display_data"
    }
   ],
   "source": [
    "plot_confusion_matrix(svc, X_test, y_test, cmap = \"Oranges\")"
   ]
  },
  {
   "cell_type": "code",
   "execution_count": 1205,
   "metadata": {},
   "outputs": [
    {
     "data": {
      "text/plain": [
       "0.8904109589041096"
      ]
     },
     "execution_count": 1205,
     "metadata": {},
     "output_type": "execute_result"
    }
   ],
   "source": [
    "vc = VotingClassifier([(\"dt\", dt), (\"svc\", svc), (\"ada\", ada)])\n",
    "vc.fit(X_train, y_train)\n",
    "vc.score(X_test, y_test)"
   ]
  },
  {
   "cell_type": "code",
   "execution_count": 1206,
   "metadata": {},
   "outputs": [
    {
     "data": {
      "image/png": "[encoded data removed]",
      "text/plain": [
       "<Figure size 432x288 with 2 Axes>"
      ]
     },
     "metadata": {
      "needs_background": "light"
     },
     "output_type": "display_data"
    }
   ],
   "source": [
    "plot_confusion_matrix(vc, X_test, y_test, cmap = 'copper_r');"
   ]
  },
  {
   "cell_type": "code",
   "execution_count": 1207,
   "metadata": {},
   "outputs": [
    {
     "data": {
      "text/plain": [
       "array([0.86363636, 0.88636364, 0.94252874, 0.94252874, 0.93103448])"
      ]
     },
     "execution_count": 1207,
     "metadata": {},
     "output_type": "execute_result"
    }
   ],
   "source": [
    "cvscore = cross_val_score(vc, X_train, y_train)\n",
    "cvscore"
   ]
  },
  {
   "cell_type": "code",
   "execution_count": 1208,
   "metadata": {},
   "outputs": [
    {
     "data": {
      "text/plain": [
       "0.9132183908045978"
      ]
     },
     "execution_count": 1208,
     "metadata": {},
     "output_type": "execute_result"
    }
   ],
   "source": [
    "cvscore.mean()"
   ]
  },
  {
   "cell_type": "markdown",
   "metadata": {},
   "source": [
    "### Predictions"
   ]
  },
  {
   "cell_type": "code",
   "execution_count": 16,
   "metadata": {},
   "outputs": [],
   "source": [
    "df.drop(columns = 'docs', inplace=True)"
   ]
  },
  {
   "cell_type": "code",
   "execution_count": 18,
   "metadata": {},
   "outputs": [],
   "source": [
    "df['predictions'] = ada.predict(df['Text'])"
   ]
  },
  {
   "cell_type": "code",
   "execution_count": 21,
   "metadata": {},
   "outputs": [],
   "source": [
    "df.to_csv('./tweets_data/tweets_predictions.csv', index = False)"
   ]
  },
  {
   "cell_type": "markdown",
   "metadata": {},
   "source": [
    "### Pickling"
   ]
  },
  {
   "cell_type": "code",
   "execution_count": 24,
   "metadata": {},
   "outputs": [],
   "source": [
    "import pickle"
   ]
  },
  {
   "cell_type": "code",
   "execution_count": 26,
   "metadata": {},
   "outputs": [],
   "source": [
    "pickle.dump(ada, open('./models/tweets_ada_model.p', 'wb'))"
   ]
  }
 ],
 "metadata": {
  "kernelspec": {
   "display_name": "Python [conda env:dsi] *",
   "language": "python",
   "name": "conda-env-dsi-py"
  },
  "language_info": {
   "codemirror_mode": {
    "name": "ipython",
    "version": 3
   },
   "file_extension": ".py",
   "mimetype": "text/x-python",
   "name": "python",
   "nbconvert_exporter": "python",
   "pygments_lexer": "ipython3",
   "version": "3.7.7"
  }
 },
 "nbformat": 4,
 "nbformat_minor": 4
}
