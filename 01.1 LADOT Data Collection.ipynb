{
 "cells": [
  {
   "cell_type": "code",
   "execution_count": 1,
   "metadata": {},
   "outputs": [],
   "source": [
    "import numpy as np\n",
    "import pandas as pd\n",
    "import requests\n",
    "from bs4 import BeautifulSoup"
   ]
  },
  {
   "cell_type": "markdown",
   "metadata": {},
   "source": [
    "Link to LA DoTD traffic updates"
   ]
  },
  {
   "cell_type": "code",
   "execution_count": 2,
   "metadata": {},
   "outputs": [
    {
     "name": "stdout",
     "output_type": "stream",
     "text": [
      "http://wwwapps.dotd.la.gov/administration/announcements/home.aspx?type=roadandlaneclosure\n"
     ]
    }
   ],
   "source": [
    "url = 'http://wwwapps.dotd.la.gov/administration/announcements/home.aspx?type=roadandlaneclosure'\n",
    "print(url)"
   ]
  },
  {
   "cell_type": "markdown",
   "metadata": {},
   "source": [
    "Connect with LA DoTD"
   ]
  },
  {
   "cell_type": "code",
   "execution_count": 3,
   "metadata": {},
   "outputs": [
    {
     "data": {
      "text/plain": [
       "200"
      ]
     },
     "execution_count": 3,
     "metadata": {},
     "output_type": "execute_result"
    }
   ],
   "source": [
    "req = requests.get(url)\n",
    "req.status_code"
   ]
  },
  {
   "cell_type": "markdown",
   "metadata": {},
   "source": [
    "Instantiate soup object from LA DoTD"
   ]
  },
  {
   "cell_type": "code",
   "execution_count": 4,
   "metadata": {},
   "outputs": [],
   "source": [
    "soup = BeautifulSoup(req.content, 'lxml')"
   ]
  },
  {
   "cell_type": "markdown",
   "metadata": {},
   "source": [
    "Pull out updates table from soup"
   ]
  },
  {
   "cell_type": "code",
   "execution_count": 5,
   "metadata": {},
   "outputs": [],
   "source": [
    "table = soup.find('table', attrs={'id': 'gvAnnouncements'})"
   ]
  },
  {
   "cell_type": "markdown",
   "metadata": {},
   "source": [
    "Pull reports and dates from every update available"
   ]
  },
  {
   "cell_type": "code",
   "execution_count": 6,
   "metadata": {},
   "outputs": [
    {
     "data": {
      "text/html": [
       "<div>\n",
       "<style scoped>\n",
       "    .dataframe tbody tr th:only-of-type {\n",
       "        vertical-align: middle;\n",
       "    }\n",
       "\n",
       "    .dataframe tbody tr th {\n",
       "        vertical-align: top;\n",
       "    }\n",
       "\n",
       "    .dataframe thead th {\n",
       "        text-align: right;\n",
       "    }\n",
       "</style>\n",
       "<table border=\"1\" class=\"dataframe\">\n",
       "  <thead>\n",
       "    <tr style=\"text-align: right;\">\n",
       "      <th></th>\n",
       "      <th>date</th>\n",
       "      <th>report</th>\n",
       "    </tr>\n",
       "  </thead>\n",
       "  <tbody>\n",
       "    <tr>\n",
       "      <th>17224</th>\n",
       "      <td>12/6/2013</td>\n",
       "      <td>LA 12, Sabine River Bridge Closure- Calcasieu ...</td>\n",
       "    </tr>\n",
       "    <tr>\n",
       "      <th>17225</th>\n",
       "      <td>12/6/2013</td>\n",
       "      <td>CANCELLED: TRAFFIC NOTIFICATION St. Charles Pa...</td>\n",
       "    </tr>\n",
       "    <tr>\n",
       "      <th>17226</th>\n",
       "      <td>12/6/2013</td>\n",
       "      <td>Offramp from Causeway NB to Airline Highway</td>\n",
       "    </tr>\n",
       "    <tr>\n",
       "      <th>17227</th>\n",
       "      <td>12/6/2013</td>\n",
       "      <td>U.S. 167 and La. 3073</td>\n",
       "    </tr>\n",
       "    <tr>\n",
       "      <th>17228</th>\n",
       "      <td>12/5/2013</td>\n",
       "      <td>I-210 Eastbound Lane Closure</td>\n",
       "    </tr>\n",
       "  </tbody>\n",
       "</table>\n",
       "</div>"
      ],
      "text/plain": [
       "            date                                             report\n",
       "17224  12/6/2013  LA 12, Sabine River Bridge Closure- Calcasieu ...\n",
       "17225  12/6/2013  CANCELLED: TRAFFIC NOTIFICATION St. Charles Pa...\n",
       "17226  12/6/2013        Offramp from Causeway NB to Airline Highway\n",
       "17227  12/6/2013                              U.S. 167 and La. 3073\n",
       "17228  12/5/2013                       I-210 Eastbound Lane Closure"
      ]
     },
     "execution_count": 6,
     "metadata": {},
     "output_type": "execute_result"
    }
   ],
   "source": [
    "reports = []\n",
    "\n",
    "for row in table.find_all('tr')[1:]:#5001]:\n",
    "    info = row.text.strip().split('\\n')\n",
    "    \n",
    "    report = {}\n",
    "    report['date'] = info[0]\n",
    "    report['report'] = info[1]\n",
    "    \n",
    "    reports.append(report)\n",
    "    \n",
    "reports = pd.DataFrame(reports)\n",
    "reports.tail()    "
   ]
  },
  {
   "cell_type": "code",
   "execution_count": 7,
   "metadata": {},
   "outputs": [
    {
     "data": {
      "text/plain": [
       "(17229, 2)"
      ]
     },
     "execution_count": 7,
     "metadata": {},
     "output_type": "execute_result"
    }
   ],
   "source": [
    "reports.shape"
   ]
  },
  {
   "cell_type": "markdown",
   "metadata": {},
   "source": [
    "Save dataframe of updates"
   ]
  },
  {
   "cell_type": "code",
   "execution_count": 8,
   "metadata": {},
   "outputs": [],
   "source": [
    "reports.to_csv('./LADOTD Data/road_closures.csv', header=True, index=False)"
   ]
  },
  {
   "cell_type": "code",
   "execution_count": 9,
   "metadata": {},
   "outputs": [
    {
     "data": {
      "text/plain": [
       "array(['I-10 Westbound Bridge Joint Repair over City Park Lake/Dalrymple Dr., East Baton Rouge Parish',\n",
       "       'LA 611-1 (River Road), Jefferson Parish, S.P. No H.012161',\n",
       "       'ROAD CLOSURE: Swan Lake Road northbound at I-220, Bossier Parish',\n",
       "       'US 61, Jefferson Parish, S.P. No H.013209',\n",
       "       'Intersection of LA 792 and LA 154 in Jamestown, Bienville Parish converted to 4-way stop',\n",
       "       'I-10, Jefferson and St. Charles Parish, S.P. No. H.011670',\n",
       "       'US HWY 61 EAST & WEST FELICIANA LINE/THOMPSON CR BRIDGE, H.013193',\n",
       "       '**LANE CLOSURE** US 71; over Saline Bayou; Natchitoches Parish',\n",
       "       '**LANE CLOSURE** US 84; over Dugdemona River; Winn Parish',\n",
       "       ' I-55: LA22 INTERSTATE LIGHTING – TANGIPAHOA PARISH - STATE PROJECT H.012874'],\n",
       "      dtype=object)"
      ]
     },
     "execution_count": 9,
     "metadata": {},
     "output_type": "execute_result"
    }
   ],
   "source": [
    "reports['report'].head(10).values"
   ]
  },
  {
   "cell_type": "code",
   "execution_count": null,
   "metadata": {},
   "outputs": [],
   "source": []
  }
 ],
 "metadata": {
  "kernelspec": {
   "display_name": "Python 3",
   "language": "python",
   "name": "python3"
  },
  "language_info": {
   "codemirror_mode": {
    "name": "ipython",
    "version": 3
   },
   "file_extension": ".py",
   "mimetype": "text/x-python",
   "name": "python",
   "nbconvert_exporter": "python",
   "pygments_lexer": "ipython3",
   "version": "3.7.6"
  }
 },
 "nbformat": 4,
 "nbformat_minor": 4
}
