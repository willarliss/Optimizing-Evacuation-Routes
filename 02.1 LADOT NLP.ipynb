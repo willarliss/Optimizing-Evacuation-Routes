{
 "cells": [
  {
   "cell_type": "code",
   "execution_count": 1,
   "metadata": {},
   "outputs": [],
   "source": [
    "import os\n",
    "import string\n",
    "import numpy as np\n",
    "import pandas as pd\n",
    "from nltk.tag import StanfordNERTagger\n",
    "from nltk.tokenize import word_tokenize\n",
    "from sklearn.feature_extraction.text import TfidfTransformer, CountVectorizer\n",
    "from sklearn.naive_bayes import MultinomialNB\n",
    "from sklearn.pipeline import Pipeline\n",
    "from sklearn.metrics import confusion_matrix"
   ]
  },
  {
   "cell_type": "markdown",
   "metadata": {},
   "source": [
    "Must add javahome environment to your machine"
   ]
  },
  {
   "cell_type": "code",
   "execution_count": 2,
   "metadata": {},
   "outputs": [],
   "source": [
    "os.environ['JAVAHOME'] =  \"C:/Program Files (x86)/Common Files/Oracle/Java/javapath/java.exe\""
   ]
  },
  {
   "cell_type": "markdown",
   "metadata": {},
   "source": [
    "Sources for the model:"
   ]
  },
  {
   "cell_type": "code",
   "execution_count": 3,
   "metadata": {},
   "outputs": [
    {
     "name": "stdout",
     "output_type": "stream",
     "text": [
      "http://www.nltk.org/api/nltk.tag.html#module-nltk.tag.stanford\n",
      "https://nlp.stanford.edu/software/CRF-NER.html\n"
     ]
    }
   ],
   "source": [
    "print('http://www.nltk.org/api/nltk.tag.html#module-nltk.tag.stanford')\n",
    "print('https://nlp.stanford.edu/software/CRF-NER.html')"
   ]
  },
  {
   "cell_type": "markdown",
   "metadata": {},
   "source": [
    "There are three different models. NLTK offers a module to run the stanford model. Just give it the necessary locations"
   ]
  },
  {
   "cell_type": "code",
   "execution_count": 4,
   "metadata": {},
   "outputs": [],
   "source": [
    "model = 'english.all.3class.distsim.crf.ser.gz'\n",
    "#model = 'english.conll.4class.distsim.crf.ser.gz'\n",
    "#model = 'english.muc.7class.distsim.crf.ser.gz'\n",
    "\n",
    "ner = StanfordNERTagger(\n",
    "        './LADOTD Data/stanford/'+model,\n",
    "        './LADOTD Data/stanford/stanford-ner.jar',\n",
    "        encoding='utf-8')"
   ]
  },
  {
   "cell_type": "markdown",
   "metadata": {},
   "source": [
    "---"
   ]
  },
  {
   "cell_type": "markdown",
   "metadata": {},
   "source": [
    "Read in the tweets to be processed"
   ]
  },
  {
   "cell_type": "code",
   "execution_count": 6,
   "metadata": {},
   "outputs": [
    {
     "data": {
      "text/plain": [
       "(17229, 2)"
      ]
     },
     "execution_count": 6,
     "metadata": {},
     "output_type": "execute_result"
    }
   ],
   "source": [
    "corpus = pd.read_csv('./LADOTD Data/road_closures.csv')\n",
    "corpus.shape"
   ]
  },
  {
   "cell_type": "markdown",
   "metadata": {},
   "source": [
    "Clean the tweets appropriately"
   ]
  },
  {
   "cell_type": "code",
   "execution_count": 7,
   "metadata": {},
   "outputs": [],
   "source": [
    "punct = set(string.punctuation+'–')\n",
    "clean = lambda document: ''.join([doc for doc in document if doc not in punct])\n",
    "corpus['report_clean'] = corpus['report'].apply(clean)"
   ]
  },
  {
   "cell_type": "markdown",
   "metadata": {},
   "source": [
    "Iterate over a sample of tweets to extract location tags. This is just a demonstration"
   ]
  },
  {
   "cell_type": "code",
   "execution_count": 8,
   "metadata": {},
   "outputs": [],
   "source": [
    "location_tags = []\n",
    "\n",
    "for document in corpus['report_clean'].values[:3]:\n",
    "    tags = ner.tag(word_tokenize(document))\n",
    "    location_tags.append([tag for tag in tags if 'ORGANIZATION' in tag or 'LOCATION' in tag])"
   ]
  },
  {
   "cell_type": "code",
   "execution_count": 9,
   "metadata": {},
   "outputs": [
    {
     "data": {
      "text/html": [
       "<div>\n",
       "<style scoped>\n",
       "    .dataframe tbody tr th:only-of-type {\n",
       "        vertical-align: middle;\n",
       "    }\n",
       "\n",
       "    .dataframe tbody tr th {\n",
       "        vertical-align: top;\n",
       "    }\n",
       "\n",
       "    .dataframe thead th {\n",
       "        text-align: right;\n",
       "    }\n",
       "</style>\n",
       "<table border=\"1\" class=\"dataframe\">\n",
       "  <thead>\n",
       "    <tr style=\"text-align: right;\">\n",
       "      <th></th>\n",
       "      <th>report</th>\n",
       "      <th>tags</th>\n",
       "    </tr>\n",
       "  </thead>\n",
       "  <tbody>\n",
       "    <tr>\n",
       "      <th>0</th>\n",
       "      <td>I-10 Westbound Bridge Joint Repair over City P...</td>\n",
       "      <td>[(City, LOCATION), (Park, LOCATION), (LakeDalr...</td>\n",
       "    </tr>\n",
       "    <tr>\n",
       "      <th>1</th>\n",
       "      <td>LA 611-1 (River Road), Jefferson Parish, S.P. ...</td>\n",
       "      <td>[(LA, LOCATION)]</td>\n",
       "    </tr>\n",
       "    <tr>\n",
       "      <th>2</th>\n",
       "      <td>ROAD CLOSURE: Swan Lake Road northbound at I-2...</td>\n",
       "      <td>[(ROAD, LOCATION), (CLOSURE, LOCATION), (Swan,...</td>\n",
       "    </tr>\n",
       "  </tbody>\n",
       "</table>\n",
       "</div>"
      ],
      "text/plain": [
       "                                              report  \\\n",
       "0  I-10 Westbound Bridge Joint Repair over City P...   \n",
       "1  LA 611-1 (River Road), Jefferson Parish, S.P. ...   \n",
       "2  ROAD CLOSURE: Swan Lake Road northbound at I-2...   \n",
       "\n",
       "                                                tags  \n",
       "0  [(City, LOCATION), (Park, LOCATION), (LakeDalr...  \n",
       "1                                   [(LA, LOCATION)]  \n",
       "2  [(ROAD, LOCATION), (CLOSURE, LOCATION), (Swan,...  "
      ]
     },
     "execution_count": 9,
     "metadata": {},
     "output_type": "execute_result"
    }
   ],
   "source": [
    "test_df = corpus[['report']].head(3)\n",
    "test_df['tags'] = location_tags\n",
    "test_df"
   ]
  },
  {
   "cell_type": "code",
   "execution_count": 10,
   "metadata": {},
   "outputs": [
    {
     "name": "stdout",
     "output_type": "stream",
     "text": [
      "I-10 Westbound Bridge Joint Repair over City Park Lake/Dalrymple Dr., East Baton Rouge Parish\n",
      "('City', 'LOCATION') ('Park', 'LOCATION') ('LakeDalrymple', 'LOCATION') ('Dr', 'LOCATION') ('East', 'LOCATION') ('Baton', 'LOCATION') ('Rouge', 'LOCATION') ('Parish', 'LOCATION')\n"
     ]
    }
   ],
   "source": [
    "i = 0\n",
    "print(test_df['report'].values[i])\n",
    "print(*test_df['tags'].values[i])"
   ]
  },
  {
   "cell_type": "markdown",
   "metadata": {},
   "source": [
    "---"
   ]
  },
  {
   "cell_type": "markdown",
   "metadata": {},
   "source": [
    "Iterate over every tweet and extract location tags. This takes a LONG time"
   ]
  },
  {
   "cell_type": "code",
   "execution_count": 10,
   "metadata": {},
   "outputs": [],
   "source": [
    "location_tags = []\n",
    "\n",
    "for document in corpus['report_clean'].values:\n",
    "    tags = ner.tag(word_tokenize(document))\n",
    "    location_tags.append([tag for tag in tags if 'ORGANIZATION' in tag or 'LOCATION' in tag])"
   ]
  },
  {
   "cell_type": "markdown",
   "metadata": {},
   "source": [
    "Add location tags to original dataframe"
   ]
  },
  {
   "cell_type": "code",
   "execution_count": 112,
   "metadata": {},
   "outputs": [],
   "source": [
    "corpus['locations'] = location_tags"
   ]
  },
  {
   "cell_type": "markdown",
   "metadata": {},
   "source": [
    "Clean up the tags a bit"
   ]
  },
  {
   "cell_type": "code",
   "execution_count": 109,
   "metadata": {},
   "outputs": [],
   "source": [
    "detag = lambda tags: [tag[0] for tag in tags]\n",
    "corpus['locations_clean'] = corpus['locations'].apply(detag)"
   ]
  },
  {
   "cell_type": "markdown",
   "metadata": {},
   "source": [
    "Save the new csv with tags"
   ]
  },
  {
   "cell_type": "code",
   "execution_count": 111,
   "metadata": {},
   "outputs": [],
   "source": [
    "corpus.to_csv('./LADOTD Data/road_closures_tagged.csv', header=True, index=False)"
   ]
  },
  {
   "cell_type": "markdown",
   "metadata": {},
   "source": [
    " "
   ]
  }
 ],
 "metadata": {
  "kernelspec": {
   "display_name": "Python 3",
   "language": "python",
   "name": "python3"
  },
  "language_info": {
   "codemirror_mode": {
    "name": "ipython",
    "version": 3
   },
   "file_extension": ".py",
   "mimetype": "text/x-python",
   "name": "python",
   "nbconvert_exporter": "python",
   "pygments_lexer": "ipython3",
   "version": "3.7.6"
  }
 },
 "nbformat": 4,
 "nbformat_minor": 4
}
