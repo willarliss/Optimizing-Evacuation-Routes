{
 "cells": [
  {
   "cell_type": "code",
   "execution_count": 1,
   "metadata": {},
   "outputs": [],
   "source": [
    "from ladotd_reports import DOTAlerts"
   ]
  },
  {
   "cell_type": "code",
   "execution_count": 2,
   "metadata": {},
   "outputs": [],
   "source": [
    "dota = DOTAlerts()"
   ]
  },
  {
   "cell_type": "code",
   "execution_count": 3,
   "metadata": {},
   "outputs": [
    {
     "data": {
      "text/plain": [
       "array(['UPDATE Road Closures Due to High Water – Lafayette Parish',\n",
       "       '**LIVE WIRE DOWN** LA 121 at the junction of LA 461; and at LA 112; Vernon Parish',\n",
       "       '***UPDATE*** LA 1, Theriot Lock closure, Lafourche Parish',\n",
       "       '***BRIDGE CLOSURE*** LA 75 Bayou Sorrell Bridge',\n",
       "       'Emergency Road Closure;  LA 112: From Lecompte to I-49;  Rapides Parish;  Downed Trees',\n",
       "       'Road Closures Due to High Water – Lafayette Parish',\n",
       "       'Road Closures Due to High Water – Vermilion Parish',\n",
       "       'Road Closures Due to High Water – St. Martin Parish',\n",
       "       'UPDATE: LA 3152 Clearview Pkwy W. Metairie to Argonne St., Jefferson Parish, H.012571',\n",
       "       '***TEMPORARY ROAD CLOSURE*** IBERVILLE PARISH'], dtype=object)"
      ]
     },
     "execution_count": 3,
     "metadata": {},
     "output_type": "execute_result"
    }
   ],
   "source": [
    "test = dota.scrape('08/27/2020')\n",
    "test[test['closed']==1]['report'].values"
   ]
  },
  {
   "cell_type": "code",
   "execution_count": 4,
   "metadata": {},
   "outputs": [
    {
     "data": {
      "text/plain": [
       "array(['UPDATE: LA 14 from Broad Street to Tom Hebert Road – Calcasieu Parish',\n",
       "       'Road closed: LA 113 from LA 26 to US 190 – Beauregard Parish/Jefferson Davis Parish',\n",
       "       'UPDATE: LA 110 from US 190 to LA 27 - Beauregard Parish',\n",
       "       'UPDATE:  LA 301 – Jefferson Parish',\n",
       "       'UPDATE: WATER ON ROAD: LA 560-4 - Jefferson Parish',\n",
       "       'UPDATE: WATER ON ROAD: LA 3257 – South of the Pailet Canal - Jefferson Parish',\n",
       "       'ST. TAMMANY PARISH - I-10: LANE CLOSURES (SLIDELL)',\n",
       "       'ST. TAMMANY PARISH – I-10: SLIDELL RAMP CLOSURES',\n",
       "       'I-55 & I-12 DISTRICT WIDE OGFC SPOT REPAIR – ST. TAMMANY PARISH, RAMP CLOSURES AT I-12/ I-59/ I-10 INTERCHANGE - STATE PROJECT H.013903',\n",
       "       'UPDATE: LA 665 flood gate closure, Terrebonne Parish',\n",
       "       'I-12 - Partial Road Closure -  Project #: H.011278 - Livingston Parish',\n",
       "       '***UPDATE***WATER ON ROAD: LA 55 south of floodgate in Terrebonne Parish',\n",
       "       'LA 16 - Partial Road Closure -  Project #: H.013230 - Livingston Parish',\n",
       "       'LA 16 - Partial Road Closure -  Project #: H.013230 - Livingston Parish',\n",
       "       'LA 16 - Partial Road Closure -  Project #: H.013230 - Livingston Parish',\n",
       "       'Down power lines on I-210 Prien Lake Bridge - Calcasieu Parish'],\n",
       "      dtype=object)"
      ]
     },
     "execution_count": 4,
     "metadata": {},
     "output_type": "execute_result"
    }
   ],
   "source": [
    "test = dota.scrape('8/28/2020')\n",
    "test[test['closed']==1]['report'].values"
   ]
  },
  {
   "cell_type": "code",
   "execution_count": 5,
   "metadata": {},
   "outputs": [
    {
     "data": {
      "text/plain": [
       "array(['LA 16, Livingston Parish, Road Closure, S.P. H.013724',\n",
       "       'ROAD CLOSURE UPDATES FOR CENTRAL LA REGION (ALEXANDRIA DISTRICT)'],\n",
       "      dtype=object)"
      ]
     },
     "execution_count": 5,
     "metadata": {},
     "output_type": "execute_result"
    }
   ],
   "source": [
    "test = dota.scrape('8/29/2020')\n",
    "test[test['closed']==1]['report'].values"
   ]
  },
  {
   "cell_type": "code",
   "execution_count": 6,
   "metadata": {},
   "outputs": [
    {
     "name": "stdout",
     "output_type": "stream",
     "text": [
      "http://wwwapps.dotd.la.gov/administration/announcements/home.aspx?type=roadandlaneclosure\n"
     ]
    }
   ],
   "source": [
    "print(dota.source)"
   ]
  },
  {
   "cell_type": "markdown",
   "metadata": {},
   "source": [
    "---"
   ]
  },
  {
   "cell_type": "code",
   "execution_count": 6,
   "metadata": {},
   "outputs": [
    {
     "data": {
      "text/plain": [
       "array(['ROAD CLOSURE: Swan Lake Road northbound at I-220, Bossier Parish',\n",
       "       '**LANE CLOSURE** US 71; over Saline Bayou; Natchitoches Parish',\n",
       "       '**LANE CLOSURE** US 84; over Dugdemona River; Winn Parish',\n",
       "       'UPDATE: ***IS OPEN***Flood Gate, LA 39, Plaquemines Parish',\n",
       "       'UPDATE: ***IS OPEN***LA 56 flood gate is closed (Terrebonne Parish)',\n",
       "       '***NOW OPENED***ROAD CLOSURE DUE TO WATER - ST. TAMMANY PARISH (LA 1077/LAKE ROAD MADISONVILLE)',\n",
       "       'US 167 (NE Evangeline Thruway) from Mudd Avenue to Goldman Street, Lafayette Parish, Lane Closure',\n",
       "       'Louisiana Avenue SB under the I-10 Overpass, Lafayette Parish, Alternating Lane Closures'],\n",
       "      dtype=object)"
      ]
     },
     "execution_count": 6,
     "metadata": {},
     "output_type": "execute_result"
    }
   ],
   "source": [
    "test = dota.scrape()\n",
    "test[test['closed']==1]['report'].values"
   ]
  },
  {
   "cell_type": "markdown",
   "metadata": {},
   "source": [
    " "
   ]
  }
 ],
 "metadata": {
  "kernelspec": {
   "display_name": "Python 3",
   "language": "python",
   "name": "python3"
  },
  "language_info": {
   "codemirror_mode": {
    "name": "ipython",
    "version": 3
   },
   "file_extension": ".py",
   "mimetype": "text/x-python",
   "name": "python",
   "nbconvert_exporter": "python",
   "pygments_lexer": "ipython3",
   "version": "3.7.7"
  }
 },
 "nbformat": 4,
 "nbformat_minor": 4
}
